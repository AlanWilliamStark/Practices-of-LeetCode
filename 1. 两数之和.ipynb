{
 "cells": [
  {
   "cell_type": "markdown",
   "id": "81fa5a36",
   "metadata": {},
   "source": [
    "# 两数之和"
   ]
  },
  {
   "cell_type": "markdown",
   "id": "74bb8f8c",
   "metadata": {},
   "source": [
    "给定一个整数数组 nums 和一个整数目标值 target，请你在该数组中找出 和为目标值 target  的那 两个 整数，并返回它们的数组下标。\n",
    "\n",
    "你可以假设每种输入只会对应一个答案。但是，数组中同一个元素在答案里不能重复出现。\n",
    "\n",
    "你可以按任意顺序返回答案。\n",
    "\n",
    " \n",
    "\n",
    "示例 1：\n",
    "\n",
    "输入：nums = [2,7,11,15], target = 9\n",
    "输出：[0,1]\n",
    "解释：因为 nums[0] + nums[1] == 9 ，返回 [0, 1] 。\n",
    "示例 2：\n",
    "\n",
    "输入：nums = [3,2,4], target = 6\n",
    "输出：[1,2]\n",
    "示例 3：\n",
    "\n",
    "输入：nums = [3,3], target = 6\n",
    "输出：[0,1]\n",
    " \n",
    "\n",
    "提示：\n",
    "\n",
    "2 <= nums.length <= 104\n",
    "-109 <= nums[i] <= 109\n",
    "-109 <= target <= 109\n",
    "只会存在一个有效答案\n",
    "进阶：你可以想出一个时间复杂度小于 O(n2) 的算法吗？\n",
    "\n",
    "来源：力扣（LeetCode）\n",
    "链接：https://leetcode.cn/problems/two-sum\n",
    "著作权归领扣网络所有。商业转载请联系官方授权，非商业转载请注明出处。"
   ]
  },
  {
   "cell_type": "code",
   "execution_count": 4,
   "id": "c8002701",
   "metadata": {
    "ExecuteTime": {
     "end_time": "2022-08-17T13:53:17.161239Z",
     "start_time": "2022-08-17T13:53:17.153222Z"
    }
   },
   "outputs": [
    {
     "name": "stdout",
     "output_type": "stream",
     "text": [
      "[0, 1]\n"
     ]
    }
   ],
   "source": [
    "nums = [2,7,11,15]\n",
    "target = 9\n",
    "for i in range(len(nums)):\n",
    "    for j in range(i+1,len(nums)):\n",
    "        if nums[i] + nums[j] == target:\n",
    "            print([i,j])\n",
    "#复杂度n^2"
   ]
  },
  {
   "cell_type": "markdown",
   "id": "579dca90",
   "metadata": {},
   "source": [
    "**复杂度分析**\n",
    "\n",
    "时间复杂度：O(N^2)，其中 N 是数组中的元素数量。最坏情况下数组中任意两个数都要被匹配一次。\n",
    "\n",
    "空间复杂度：O(1)。\n",
    "\n",
    "\n",
    "    时间复杂度具体计算方法：\n",
    "    以上方代码为例，假设每行代码每次执行时间都为单位1。\n",
    "    则，第一行执行时间为1\n",
    "    第二行执行时间为1\n",
    "    第三行执行时间为1\n",
    "    第四行执行时间为n\n",
    "    第五行执行时间,内循环中执行(n-1)+(n-2)+(n-3)+...(n-n+1)+(n-n) = 0+1+2+3+...+n-1，可以看出这个执行时间是随着n的变化而变化的，因此可以将内循环中的时间复杂度简化表示为n，再与外层循环相乘，即为$n^2$"
   ]
  },
  {
   "cell_type": "code",
   "execution_count": 9,
   "id": "74984c66",
   "metadata": {
    "ExecuteTime": {
     "end_time": "2022-08-17T15:57:17.647770Z",
     "start_time": "2022-08-17T15:57:17.633765Z"
    }
   },
   "outputs": [
    {
     "name": "stdout",
     "output_type": "stream",
     "text": [
      "[0, 1]\n"
     ]
    }
   ],
   "source": [
    "nums = [2,7,11,15]\n",
    "target = 9\n",
    "hashtable = dict()\n",
    "for i,num in enumerate(nums):\n",
    "    if target - num in hashtable:\n",
    "        print([hashtable[target-num],i])\n",
    "    hashtable[nums[i]] = i\n",
    "#时间复杂度O（N）"
   ]
  },
  {
   "cell_type": "markdown",
   "id": "7ea22bd7",
   "metadata": {},
   "source": [
    "**复杂度分析**\n",
    "\n",
    "时间复杂度：O(N)，其中 N 是数组中的元素数量。对于每一个元素 x，我们可以 O(1) 地寻找 target - x。\n",
    "\n",
    "空间复杂度：O(N)，其中 N 是数组中的元素数量。主要为哈希表的开销。\n"
   ]
  },
  {
   "cell_type": "code",
   "execution_count": null,
   "id": "2d0a10fd",
   "metadata": {},
   "outputs": [],
   "source": []
  }
 ],
 "metadata": {
  "kernelspec": {
   "display_name": "usual",
   "language": "python",
   "name": "usual"
  },
  "language_info": {
   "codemirror_mode": {
    "name": "ipython",
    "version": 3
   },
   "file_extension": ".py",
   "mimetype": "text/x-python",
   "name": "python",
   "nbconvert_exporter": "python",
   "pygments_lexer": "ipython3",
   "version": "3.6.13"
  },
  "toc": {
   "base_numbering": 1,
   "nav_menu": {},
   "number_sections": true,
   "sideBar": true,
   "skip_h1_title": false,
   "title_cell": "Table of Contents",
   "title_sidebar": "Contents",
   "toc_cell": false,
   "toc_position": {},
   "toc_section_display": true,
   "toc_window_display": false
  },
  "varInspector": {
   "cols": {
    "lenName": 16,
    "lenType": 16,
    "lenVar": 40
   },
   "kernels_config": {
    "python": {
     "delete_cmd_postfix": "",
     "delete_cmd_prefix": "del ",
     "library": "var_list.py",
     "varRefreshCmd": "print(var_dic_list())"
    },
    "r": {
     "delete_cmd_postfix": ") ",
     "delete_cmd_prefix": "rm(",
     "library": "var_list.r",
     "varRefreshCmd": "cat(var_dic_list()) "
    }
   },
   "types_to_exclude": [
    "module",
    "function",
    "builtin_function_or_method",
    "instance",
    "_Feature"
   ],
   "window_display": false
  }
 },
 "nbformat": 4,
 "nbformat_minor": 5
}
